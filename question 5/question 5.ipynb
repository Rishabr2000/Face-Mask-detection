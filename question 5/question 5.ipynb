{
 "cells": [
  {
   "cell_type": "code",
   "execution_count": 1,
   "id": "31baf76e-aa85-4192-a440-2707e7f26850",
   "metadata": {},
   "outputs": [
    {
     "name": "stdout",
     "output_type": "stream",
     "text": [
      "Classification Accuracy: 45.35%\n",
      "Predicted labels: [0 0 8 ... 9 9 9]\n"
     ]
    }
   ],
   "source": [
    "import torch\n",
    "import numpy as np\n",
    "from torchvision import datasets, transforms\n",
    "from torch.utils.data import DataLoader\n",
    "from ca_utils import ResNet, BasicBlock\n",
    "\n",
    "# Load the trained model\n",
    "model = ResNet(block=BasicBlock, layers=[1, 1, 1], num_classes=10)\n",
    "model.load_state_dict(torch.load(\"data/weights_resnet(q4).pth\"))\n",
    "model.to(torch.device(\"cuda\" if torch.cuda.is_available() else \"cpu\"))\n",
    "\n",
    "# Prepare the test data loader\n",
    "test_transform = transforms.Compose([\n",
    "    # transforms.Resize((224, 224)),\n",
    "    transforms.ToTensor(),\n",
    "    transforms.Normalize((0.5, 0.5, 0.5), (0.5, 0.5, 0.5))\n",
    "])\n",
    "test_data = datasets.ImageFolder(r\"C:\\Users\\risha\\Downloads\\val\", transform=test_transform)\n",
    "test_loader = DataLoader(test_data, batch_size=64, shuffle=False, num_workers=4,pin_memory=True)\n",
    "\n",
    "# Define the test function\n",
    "def test_cnn(model, test_loader):\n",
    "    model.eval()\n",
    "    device = next(model.parameters()).device\n",
    "    all_predictions = []\n",
    "    correct = 0\n",
    "    total = 0\n",
    "\n",
    "    with torch.no_grad():\n",
    "        for inputs, labels in test_loader:\n",
    "            inputs, labels = inputs.to(device), labels.to(device)\n",
    "            outputs = model(inputs)\n",
    "            _, predicted = torch.max(outputs, 1)\n",
    "            total += labels.size(0)\n",
    "            correct += (predicted == labels).sum().item()\n",
    "            all_predictions.extend(predicted.cpu().numpy())\n",
    "\n",
    "    accuracy = 100 * correct / total\n",
    "    return np.array(all_predictions), accuracy\n",
    "\n",
    "# # Test the model and get predictions and accuracy\n",
    "# predictions, accuracy = test_cnn(model, test_loader)\n",
    "# print(f'Classification Accuracy: {accuracy:.2f}%')\n",
    "\n",
    "# Call the function to get predictions and accuracy\n",
    "predictions, accuracy = test_cnn(model, test_loader)\n",
    "print(f'Classification Accuracy: {accuracy:.2f}%')\n",
    "# Ensure that the predictions are printed out\n",
    "print(f'Predicted labels: {predictions}')"
   ]
  },
  {
   "cell_type": "code",
   "execution_count": null,
   "id": "9115cc92-7707-4656-9cc2-c4daa6f52b3a",
   "metadata": {},
   "outputs": [],
   "source": []
  }
 ],
 "metadata": {
  "kernelspec": {
   "display_name": "Python 3 (ipykernel)",
   "language": "python",
   "name": "python3"
  },
  "language_info": {
   "codemirror_mode": {
    "name": "ipython",
    "version": 3
   },
   "file_extension": ".py",
   "mimetype": "text/x-python",
   "name": "python",
   "nbconvert_exporter": "python",
   "pygments_lexer": "ipython3",
   "version": "3.12.2"
  }
 },
 "nbformat": 4,
 "nbformat_minor": 5
}

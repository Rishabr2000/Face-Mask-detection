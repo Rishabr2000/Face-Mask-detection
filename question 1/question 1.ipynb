{
 "cells": [
  {
   "cell_type": "code",
   "execution_count": 13,
   "id": "939327df",
   "metadata": {},
   "outputs": [
    {
     "name": "stdout",
     "output_type": "stream",
     "text": [
      "(720, 720) (720, 720) float64\n",
      "Gradient Magnitude:\n",
      "[[0. 0. 0. ... 0. 0. 0.]\n",
      " [0. 0. 0. ... 0. 0. 0.]\n",
      " [0. 0. 0. ... 0. 0. 0.]\n",
      " ...\n",
      " [0. 0. 0. ... 0. 0. 0.]\n",
      " [0. 0. 0. ... 0. 0. 0.]\n",
      " [0. 0. 0. ... 0. 0. 0.]]\n",
      "\n",
      "Gradient Direction:\n",
      "[[0. 0. 0. ... 0. 0. 0.]\n",
      " [0. 0. 0. ... 0. 0. 0.]\n",
      " [0. 0. 0. ... 0. 0. 0.]\n",
      " ...\n",
      " [0. 0. 0. ... 0. 0. 0.]\n",
      " [0. 0. 0. ... 0. 0. 0.]\n",
      " [0. 0. 0. ... 0. 0. 0.]]\n"
     ]
    }
   ],
   "source": [
    "import numpy as np\n",
    "import cv2\n",
    "from scipy.signal import convolve2d\n",
    "\n",
    "# Loading the image from the specified location\n",
    "gr_im = cv2.imread(r\"C:\\Users\\risha\\Desktop\\2nd term\\Computer vision\\assignment\\CA_2024\\CA_2024\\data\\shapes.png\", cv2.IMREAD_GRAYSCALE)\n",
    "\n",
    "# Defining the Sobel operators for horizontal and vertical gradients\n",
    "kx = np.array([[-1, 0, 1], [-2, 0, 2], [-1, 0, 1]], dtype=np.int32)\n",
    "ky = np.array([[1, 2, 1], [0, 0, 0], [-1, -2, -1]], dtype=np.int32)\n",
    "\n",
    "def compute_gradient_magnitude(gr_im, kx, ky):\n",
    "    # Apply convolution with the horizontal and vertical kernels\n",
    "    gx = convolve2d(gr_im, kx, mode='same', boundary='fill', fillvalue=0)\n",
    "    gy = convolve2d(gr_im, ky, mode='same', boundary='fill', fillvalue=0)\n",
    "    # Calculate the gradient magnitude\n",
    "    grad_magnitude = np.sqrt(gx**2 + gy**2)\n",
    "    return grad_magnitude.astype(np.float64)\n",
    "\n",
    "def compute_gradient_direction(gr_im, kx, ky):\n",
    "    # Apply convolution with the horizontal and vertical kernels\n",
    "    gx = convolve2d(gr_im, kx, mode='same', boundary='fill', fillvalue=0)\n",
    "    gy = convolve2d(gr_im, ky, mode='same', boundary='fill', fillvalue=0)\n",
    "    # Calculate the gradient direction\n",
    "    grad_direction = np.arctan2(gy, gx)\n",
    "    return grad_direction.astype(np.float64)\n",
    "\n",
    "# Computing the gradient magnitude and direction for the given image\n",
    "grad_magnitude = compute_gradient_magnitude(gr_im, kx, ky)\n",
    "grad_direction = compute_gradient_direction(gr_im, kx, ky)\n",
    "\n",
    "# Returning the shapes of the resulting arrays to verify correctness\n",
    "print(grad_magnitude.shape, grad_direction.shape,grad_direction.dtype)\n",
    "\n",
    "# Computing the gradient magnitude and direction for the given image\n",
    "grad_magnitude = compute_gradient_magnitude(gr_im, kx, ky)\n",
    "grad_direction = compute_gradient_direction(gr_im, kx, ky)\n",
    "\n",
    "# Printing the gradient magnitude and direction arrays\n",
    "print(\"Gradient Magnitude:\")\n",
    "print(grad_magnitude)\n",
    "\n",
    "print(\"\\nGradient Direction:\")\n",
    "print(grad_direction)\n"
   ]
  },
  {
   "cell_type": "code",
   "execution_count": null,
   "id": "b0bbdcd4",
   "metadata": {},
   "outputs": [],
   "source": []
  }
 ],
 "metadata": {
  "kernelspec": {
   "display_name": "Python 3 (ipykernel)",
   "language": "python",
   "name": "python3"
  },
  "language_info": {
   "codemirror_mode": {
    "name": "ipython",
    "version": 3
   },
   "file_extension": ".py",
   "mimetype": "text/x-python",
   "name": "python",
   "nbconvert_exporter": "python",
   "pygments_lexer": "ipython3",
   "version": "3.11.5"
  }
 },
 "nbformat": 4,
 "nbformat_minor": 5
}

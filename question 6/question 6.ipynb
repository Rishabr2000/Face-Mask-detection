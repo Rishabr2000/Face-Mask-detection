{
 "cells": [
  {
   "cell_type": "code",
   "execution_count": null,
   "id": "f43647e4-5d10-4fd2-a158-559e09da7114",
   "metadata": {},
   "outputs": [],
   "source": [
    "import numpy as np\n",
    "from sklearn.metrics import confusion_matrix\n",
    "\n",
    "# Compute Confusion Matrix function\n",
    "def compute_confusion_matrix(true, predictions):\n",
    "    \n",
    "    cm = confusion_matrix(true, predictions)\n",
    "    return cm\n",
    "\n",
    "# Get the true labels\n",
    "true_labels = np.array([label for _, label in test_data.samples])\n",
    "\n",
    "# Compute the confusion matrix\n",
    "cm = compute_confusion_matrix(true_labels, predictions)\n",
    "print(cm)"
   ]
  }
 ],
 "metadata": {
  "kernelspec": {
   "display_name": "Python 3 (ipykernel)",
   "language": "python",
   "name": "python3"
  },
  "language_info": {
   "codemirror_mode": {
    "name": "ipython",
    "version": 3
   },
   "file_extension": ".py",
   "mimetype": "text/x-python",
   "name": "python",
   "nbconvert_exporter": "python",
   "pygments_lexer": "ipython3",
   "version": "3.12.2"
  }
 },
 "nbformat": 4,
 "nbformat_minor": 5
}

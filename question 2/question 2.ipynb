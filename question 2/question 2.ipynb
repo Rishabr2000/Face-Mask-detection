{
 "cells": [
  {
   "cell_type": "code",
   "execution_count": 4,
   "id": "1b0cc29e",
   "metadata": {},
   "outputs": [
    {
     "name": "stderr",
     "output_type": "stream",
     "text": [
      "C:\\Users\\risha\\anaconda3\\Lib\\site-packages\\sklearn\\cluster\\_kmeans.py:1412: FutureWarning: The default value of `n_init` will change from 10 to 'auto' in 1.4. Set the value of `n_init` explicitly to suppress the warning\n",
      "  super()._check_params_vs_input(X, default_n_init=10)\n"
     ]
    },
    {
     "name": "stdout",
     "output_type": "stream",
     "text": [
      "Histogram for division [2, 2] saved to './histogram_division_2x2.csv'\n",
      "Histogram for division [2, 3] saved to './histogram_division_2x3.csv'\n",
      "Histogram for division [1, 1] saved to './histogram_division_1x1.csv'\n"
     ]
    }
   ],
   "source": [
    "import numpy as np\n",
    "import cv2\n",
    "from sklearn.cluster import KMeans\n",
    "import matplotlib.pyplot as plt\n",
    "\n",
    "def detect_features_and_form_clusters(input_image, num_clusters=10, feature_type='SIFT'):\n",
    "    # Choose feature detector\n",
    "    feature_detectors = {\n",
    "        'SIFT': cv2.SIFT_create,\n",
    "        'AKAZE': cv2.AKAZE_create\n",
    "    }\n",
    "    \n",
    "    if feature_type in feature_detectors:\n",
    "        feature_detector = feature_detectors[feature_type]()\n",
    "    else:\n",
    "        raise ValueError(\"Feature detector not recognized.\")\n",
    "    \n",
    "    # Find keypoints and their descriptors\n",
    "    keypoints, feature_descriptors = feature_detector.detectAndCompute(input_image, None)\n",
    "    \n",
    "    # Handle case with no keypoints found\n",
    "    if feature_descriptors is None:\n",
    "        return np.array([]), np.array([])\n",
    "\n",
    "    # Clustering using KMeans\n",
    "    kmeans_cluster = KMeans(n_clusters=num_clusters, random_state=42)\n",
    "    kmeans_cluster.fit(feature_descriptors)\n",
    "    \n",
    "    # Get the feature positions\n",
    "    feature_positions = np.array([keypoint.pt for keypoint in keypoints], dtype=np.float32)\n",
    "    \n",
    "    # Assign clusters\n",
    "    assigned_clusters = kmeans_cluster.labels_\n",
    "    \n",
    "    return feature_positions, assigned_clusters\n",
    "\n",
    "def create_spatial_hist_of_features(image, feature_positions, assigned_clusters, grid_divisions):\n",
    "    # Define grid divisions\n",
    "    grid_rows, grid_cols = grid_divisions\n",
    "    grid_height, grid_width = image.shape[:2]\n",
    "    \n",
    "    # Histogram initialization\n",
    "    cluster_histogram = np.zeros(np.unique(assigned_clusters).size, dtype=int)\n",
    "    spatial_hist = []\n",
    "    \n",
    "    # Compute histogram for each grid section\n",
    "    for row in range(grid_rows):\n",
    "        for col in range(grid_cols):\n",
    "            # Grid section boundaries\n",
    "            row_start, col_start = row * (grid_height // grid_rows), col * (grid_width // grid_cols)\n",
    "            row_end, col_end = row_start + (grid_height // grid_rows), col_start + (grid_width // grid_cols)\n",
    "            \n",
    "            # Build histogram for current grid section\n",
    "            grid_hist = np.zeros_like(cluster_histogram)\n",
    "            for position, cluster in zip(feature_positions, assigned_clusters):\n",
    "                y, x = position\n",
    "                if row_start <= y < row_end and col_start <= x < col_end:\n",
    "                    grid_hist[cluster] += 1\n",
    "            \n",
    "            spatial_hist.extend(grid_hist)\n",
    "    \n",
    "    return np.array(spatial_hist)\n",
    "\n",
    "\n",
    "\n",
    "image_path = r\"C:\\Users\\risha\\Desktop\\2nd term\\Computer vision\\assignment\\CA_2024\\CA_2024\\data\\notre_dame_1.jpg\"\n",
    "image = cv2.imread(image_path)\n",
    "\n",
    "# Ensure the image was loaded correctly\n",
    "if image is None:\n",
    "    raise ValueError(\"Image not found or unable to load.\")\n",
    "\n",
    "# Detect features and form clusters\n",
    "feature_positions, assigned_clusters = detect_features_and_form_clusters(image)\n",
    "\n",
    "division_patterns = [[2, 2], [2, 3], [1, 1]]\n",
    "histograms = []\n",
    "\n",
    "for pattern in division_patterns:\n",
    "    histogram = create_spatial_hist_of_features(image, feature_positions, assigned_clusters, pattern)\n",
    "    histograms.append(histogram)\n",
    "\n",
    "    # Save the histogram to a CSV file\n",
    "    csv_filename = f\"./histogram_division_{pattern[0]}x{pattern[1]}.csv\"\n",
    "    np.savetxt(csv_filename, histogram.reshape(1, -1), delimiter=\",\", fmt=\"%d\")\n",
    "    print(f\"Histogram for division {pattern} saved to '{csv_filename}'\")\n",
    "\n"
   ]
  },
  {
   "cell_type": "code",
   "execution_count": null,
   "id": "37ed9c31",
   "metadata": {},
   "outputs": [],
   "source": []
  }
 ],
 "metadata": {
  "kernelspec": {
   "display_name": "Python 3 (ipykernel)",
   "language": "python",
   "name": "python3"
  },
  "language_info": {
   "codemirror_mode": {
    "name": "ipython",
    "version": 3
   },
   "file_extension": ".py",
   "mimetype": "text/x-python",
   "name": "python",
   "nbconvert_exporter": "python",
   "pygments_lexer": "ipython3",
   "version": "3.11.5"
  }
 },
 "nbformat": 4,
 "nbformat_minor": 5
}

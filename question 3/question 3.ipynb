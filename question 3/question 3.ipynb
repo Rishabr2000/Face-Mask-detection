{
 "cells": [
  {
   "cell_type": "code",
   "execution_count": 4,
   "id": "ec3f9d50",
   "metadata": {},
   "outputs": [
    {
     "name": "stdout",
     "output_type": "stream",
     "text": [
      "[[   0.70710678   -0.70710678  643.61612368]\n",
      " [   0.70710678    0.70710678 -153.24637476]\n",
      " [   0.            0.            1.        ]]\n"
     ]
    },
    {
     "data": {
      "text/plain": [
       "dtype('float64')"
      ]
     },
     "execution_count": 4,
     "metadata": {},
     "output_type": "execute_result"
    }
   ],
   "source": [
    "import numpy as np\n",
    "\n",
    "# Load the points from the numpy file\n",
    "points = np.load(r\"C:\\Users\\risha\\Desktop\\2nd term\\Computer vision\\assignment\\CA_2024\\CA_2024\\data\\points.npy\")\n",
    "\n",
    "# Define the compute_rotation_matrix function\n",
    "def compute_rotation_matrix(points, theta):\n",
    "    \n",
    "    # Convert theta from degrees to radians\n",
    "    theta_rad = np.deg2rad(theta)\n",
    "    \n",
    "    # Calculate the center of the shape\n",
    "    center = points.mean(axis=0)\n",
    "    \n",
    "    # Define the translation matrix to shift the shape to the origin\n",
    "    translation_to_origin = np.array([\n",
    "        [1, 0, -center[0]],\n",
    "        [0, 1, -center[1]],\n",
    "        [0, 0, 1]\n",
    "    ])\n",
    "    \n",
    "    # Defining the rotation matrix about the origin\n",
    "    rotation = np.array([\n",
    "        [np.cos(theta_rad), -np.sin(theta_rad), 0],\n",
    "        [np.sin(theta_rad), np.cos(theta_rad), 0],\n",
    "        [0, 0, 1]\n",
    "    ])\n",
    "    \n",
    "    # Defining the translation matrix to shift the shape back to its original center\n",
    "    translation_back = np.array([\n",
    "        [1, 0, center[0]],\n",
    "        [0, 1, center[1]],\n",
    "        [0, 0, 1]\n",
    "    ])\n",
    "    \n",
    "    # Compute the combined rotation matrix\n",
    "    rotation_matrix = translation_back @ rotation @ translation_to_origin\n",
    "    \n",
    "    return rotation_matrix\n",
    "\n",
    "# Example theta value(test case) change it accordingly \n",
    "theta = 45\n",
    "\n",
    "# Computing the rotation matrix\n",
    "rotation_matrix = compute_rotation_matrix(points, theta)\n",
    "\n",
    "print(rotation_matrix)\n",
    "rotation_matrix.dtype\n"
   ]
  },
  {
   "cell_type": "code",
   "execution_count": null,
   "id": "41748866",
   "metadata": {},
   "outputs": [],
   "source": []
  }
 ],
 "metadata": {
  "kernelspec": {
   "display_name": "Python 3 (ipykernel)",
   "language": "python",
   "name": "python3"
  },
  "language_info": {
   "codemirror_mode": {
    "name": "ipython",
    "version": 3
   },
   "file_extension": ".py",
   "mimetype": "text/x-python",
   "name": "python",
   "nbconvert_exporter": "python",
   "pygments_lexer": "ipython3",
   "version": "3.11.5"
  }
 },
 "nbformat": 4,
 "nbformat_minor": 5
}
